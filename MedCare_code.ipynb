{
  "nbformat": 4,
  "nbformat_minor": 0,
  "metadata": {
    "colab": {
      "name": "Untitled2.ipynb",
      "provenance": []
    },
    "kernelspec": {
      "display_name": "Python 3",
      "language": "python",
      "name": "python3"
    },
    "language_info": {
      "codemirror_mode": {
        "name": "ipython",
        "version": 3
      },
      "file_extension": ".py",
      "mimetype": "text/x-python",
      "name": "python",
      "nbconvert_exporter": "python",
      "pygments_lexer": "ipython3",
      "version": "3.8.5"
    }
  },
  "cells": [
    {
      "cell_type": "code",
      "metadata": {
        "colab": {
          "base_uri": "https://localhost:8080/"
        },
        "id": "evtvoPvJthF1",
        "scrolled": true,
        "outputId": "45af8109-dce0-4f6e-eb74-8fb698f748d7"
      },
      "source": [
        "import pandas as pd \n",
        "import numpy as np \n",
        "import matplotlib.pyplot as plt\n",
        "from pathlib import Path\n",
        "import string\n",
        "import re\n",
        "import joblib\n",
        "import json\n",
        "from collections import Counter\n",
        "import nltk\n",
        "nltk.download('wordnet')\n",
        "from nltk.corpus import stopwords\n",
        "from nltk.stem import WordNetLemmatizer\n",
        "import io\n",
        "from tensorflow.keras.preprocessing.text import Tokenizer\n",
        "from tensorflow.keras.preprocessing.sequence import pad_sequences\n",
        "from tensorflow.keras.utils import plot_model\n",
        "from tensorflow.keras.models import Sequential\n",
        "from tensorflow.keras.layers import Embedding, Dense, Flatten, Conv1D, MaxPooling1D\n",
        "from tensorflow.keras.callbacks import ModelCheckpoint, EarlyStopping, ReduceLROnPlateau"
      ],
      "execution_count": 1,
      "outputs": [
        {
          "output_type": "stream",
          "text": [
            "[nltk_data] Downloading package wordnet to /root/nltk_data...\n",
            "[nltk_data]   Package wordnet is already up-to-date!\n"
          ],
          "name": "stdout"
        }
      ]
    },
    {
      "cell_type": "code",
      "metadata": {
        "id": "n2w4izRpxd6Y"
      },
      "source": [
        "def file(jsonFile):\n",
        "    with open(jsonFile) as file:\n",
        "        data = json.loads(file.read())\n",
        "    return data"
      ],
      "execution_count": 2,
      "outputs": []
    },
    {
      "cell_type": "code",
      "metadata": {
        "id": "O2fJ6UyKLZlY"
      },
      "source": [
        "data=file('intents.json')"
      ],
      "execution_count": 3,
      "outputs": []
    },
    {
      "cell_type": "code",
      "metadata": {
        "id": "ftTkrfYUvvb_"
      },
      "source": [
        "def get_data(feature1,feature2,is_pattern):\n",
        "    is_pattern = is_pattern\n",
        "    df = pd.DataFrame(columns=[feature1,feature2])\n",
        "    for intent in data['intents']:\n",
        "        if is_pattern:\n",
        "            for pattern in intent['patterns']:\n",
        "                w = pattern\n",
        "                _df= pd.Series([w,intent['tag']], index = df.columns)\n",
        "                df = df.append(_df,ignore_index=True)\n",
        "        else:\n",
        "            for response in intent['responses']:\n",
        "                w = response\n",
        "                _df = pd.Series([w,intent['tag']], index = df.columns)\n",
        "                df = df.append(_df,ignore_index=True)\n",
        "    return df"
      ],
      "execution_count": 4,
      "outputs": []
    },
    {
      "cell_type": "code",
      "metadata": {
        "colab": {
          "base_uri": "https://localhost:8080/",
          "height": 415
        },
        "id": "Y_GNwE_hxy_n",
        "outputId": "e35501bf-f968-463a-e75a-b710f892b3ac"
      },
      "source": [
        "df1 = get_data('questions','labels',True)\n",
        "df1"
      ],
      "execution_count": 5,
      "outputs": [
        {
          "output_type": "execute_result",
          "data": {
            "text/html": [
              "<div>\n",
              "<style scoped>\n",
              "    .dataframe tbody tr th:only-of-type {\n",
              "        vertical-align: middle;\n",
              "    }\n",
              "\n",
              "    .dataframe tbody tr th {\n",
              "        vertical-align: top;\n",
              "    }\n",
              "\n",
              "    .dataframe thead th {\n",
              "        text-align: right;\n",
              "    }\n",
              "</style>\n",
              "<table border=\"1\" class=\"dataframe\">\n",
              "  <thead>\n",
              "    <tr style=\"text-align: right;\">\n",
              "      <th></th>\n",
              "      <th>questions</th>\n",
              "      <th>labels</th>\n",
              "    </tr>\n",
              "  </thead>\n",
              "  <tbody>\n",
              "    <tr>\n",
              "      <th>0</th>\n",
              "      <td>Hi there</td>\n",
              "      <td>greeting</td>\n",
              "    </tr>\n",
              "    <tr>\n",
              "      <th>1</th>\n",
              "      <td>How are you</td>\n",
              "      <td>greeting</td>\n",
              "    </tr>\n",
              "    <tr>\n",
              "      <th>2</th>\n",
              "      <td>Is anyone there?</td>\n",
              "      <td>greeting</td>\n",
              "    </tr>\n",
              "    <tr>\n",
              "      <th>3</th>\n",
              "      <td>Hey</td>\n",
              "      <td>greeting</td>\n",
              "    </tr>\n",
              "    <tr>\n",
              "      <th>4</th>\n",
              "      <td>Hola</td>\n",
              "      <td>greeting</td>\n",
              "    </tr>\n",
              "    <tr>\n",
              "      <th>...</th>\n",
              "      <td>...</td>\n",
              "      <td>...</td>\n",
              "    </tr>\n",
              "    <tr>\n",
              "      <th>63</th>\n",
              "      <td>nearest</td>\n",
              "      <td>search_hospital_by_params</td>\n",
              "    </tr>\n",
              "    <tr>\n",
              "      <th>64</th>\n",
              "      <td>nearest</td>\n",
              "      <td>search_hospital_by_params</td>\n",
              "    </tr>\n",
              "    <tr>\n",
              "      <th>65</th>\n",
              "      <td>fortis</td>\n",
              "      <td>search_hospital_by_params</td>\n",
              "    </tr>\n",
              "    <tr>\n",
              "      <th>66</th>\n",
              "      <td>fortis</td>\n",
              "      <td>search_hospital_by_params</td>\n",
              "    </tr>\n",
              "    <tr>\n",
              "      <th>67</th>\n",
              "      <td>jaypee</td>\n",
              "      <td>search_hospital_by_params</td>\n",
              "    </tr>\n",
              "  </tbody>\n",
              "</table>\n",
              "<p>68 rows × 2 columns</p>\n",
              "</div>"
            ],
            "text/plain": [
              "           questions                     labels\n",
              "0           Hi there                   greeting\n",
              "1        How are you                   greeting\n",
              "2   Is anyone there?                   greeting\n",
              "3                Hey                   greeting\n",
              "4               Hola                   greeting\n",
              "..               ...                        ...\n",
              "63           nearest  search_hospital_by_params\n",
              "64           nearest  search_hospital_by_params\n",
              "65            fortis  search_hospital_by_params\n",
              "66            fortis  search_hospital_by_params\n",
              "67            jaypee  search_hospital_by_params\n",
              "\n",
              "[68 rows x 2 columns]"
            ]
          },
          "metadata": {
            "tags": []
          },
          "execution_count": 5
        }
      ]
    },
    {
      "cell_type": "code",
      "metadata": {
        "colab": {
          "base_uri": "https://localhost:8080/"
        },
        "id": "gDKfPmFeyDHS",
        "outputId": "1809555b-c9b2-47a0-da29-8ad3b05c9fce"
      },
      "source": [
        "df1.labels.value_counts(sort=False)"
      ],
      "execution_count": 6,
      "outputs": [
        {
          "output_type": "execute_result",
          "data": {
            "text/plain": [
              "search_pharmacy_by_name                3\n",
              "thanks                                 5\n",
              "adverse_drug                           5\n",
              "hospital_search                        5\n",
              "options                                5\n",
              "search_hospital_by_type                7\n",
              "greeting                               7\n",
              "noanswer                               1\n",
              "blood_pressure_search                  5\n",
              "goodbye                                5\n",
              "search_hospital_by_params              6\n",
              "search_blood_pressure_by_patient_id    4\n",
              "pharmacy_search                        5\n",
              "blood_pressure                         5\n",
              "Name: labels, dtype: int64"
            ]
          },
          "metadata": {
            "tags": []
          },
          "execution_count": 6
        }
      ]
    },
    {
      "cell_type": "code",
      "metadata": {
        "colab": {
          "base_uri": "https://localhost:8080/",
          "height": 202
        },
        "id": "OOtBr41CyWT3",
        "outputId": "d7ecb8c3-af7c-40aa-e919-11fd8bba2334"
      },
      "source": [
        "df2 = get_data('response','labels',False)\n",
        "df2.head()"
      ],
      "execution_count": 7,
      "outputs": [
        {
          "output_type": "execute_result",
          "data": {
            "text/html": [
              "<div>\n",
              "<style scoped>\n",
              "    .dataframe tbody tr th:only-of-type {\n",
              "        vertical-align: middle;\n",
              "    }\n",
              "\n",
              "    .dataframe tbody tr th {\n",
              "        vertical-align: top;\n",
              "    }\n",
              "\n",
              "    .dataframe thead th {\n",
              "        text-align: right;\n",
              "    }\n",
              "</style>\n",
              "<table border=\"1\" class=\"dataframe\">\n",
              "  <thead>\n",
              "    <tr style=\"text-align: right;\">\n",
              "      <th></th>\n",
              "      <th>response</th>\n",
              "      <th>labels</th>\n",
              "    </tr>\n",
              "  </thead>\n",
              "  <tbody>\n",
              "    <tr>\n",
              "      <th>0</th>\n",
              "      <td>Hello, thanks for asking</td>\n",
              "      <td>greeting</td>\n",
              "    </tr>\n",
              "    <tr>\n",
              "      <th>1</th>\n",
              "      <td>Good to see you again</td>\n",
              "      <td>greeting</td>\n",
              "    </tr>\n",
              "    <tr>\n",
              "      <th>2</th>\n",
              "      <td>Hi there, how can I help?</td>\n",
              "      <td>greeting</td>\n",
              "    </tr>\n",
              "    <tr>\n",
              "      <th>3</th>\n",
              "      <td>See you!</td>\n",
              "      <td>goodbye</td>\n",
              "    </tr>\n",
              "    <tr>\n",
              "      <th>4</th>\n",
              "      <td>Have a nice day</td>\n",
              "      <td>goodbye</td>\n",
              "    </tr>\n",
              "  </tbody>\n",
              "</table>\n",
              "</div>"
            ],
            "text/plain": [
              "                    response    labels\n",
              "0   Hello, thanks for asking  greeting\n",
              "1      Good to see you again  greeting\n",
              "2  Hi there, how can I help?  greeting\n",
              "3                   See you!   goodbye\n",
              "4            Have a nice day   goodbye"
            ]
          },
          "metadata": {
            "tags": []
          },
          "execution_count": 7
        }
      ]
    },
    {
      "cell_type": "code",
      "metadata": {
        "colab": {
          "base_uri": "https://localhost:8080/"
        },
        "id": "e9LmzHhp9Vcs",
        "outputId": "b5a4e1a8-2ba8-4e55-a312-777f2a0554a1"
      },
      "source": [
        "df2.labels.value_counts(sort=False)"
      ],
      "execution_count": 8,
      "outputs": [
        {
          "output_type": "execute_result",
          "data": {
            "text/plain": [
              "search_pharmacy_by_name                1\n",
              "thanks                                 3\n",
              "adverse_drug                           1\n",
              "hospital_search                        1\n",
              "options                                2\n",
              "search_hospital_by_type                1\n",
              "greeting                               3\n",
              "noanswer                               3\n",
              "blood_pressure_search                  2\n",
              "goodbye                                3\n",
              "search_hospital_by_params              1\n",
              "search_blood_pressure_by_patient_id    1\n",
              "pharmacy_search                        1\n",
              "blood_pressure                         1\n",
              "Name: labels, dtype: int64"
            ]
          },
          "metadata": {
            "tags": []
          },
          "execution_count": 8
        }
      ]
    },
    {
      "cell_type": "code",
      "metadata": {
        "id": "KZ8nAoccwP36"
      },
      "source": [
        "lemmatizer = WordNetLemmatizer()\n",
        "\n",
        "vocab = Counter()\n",
        "labels = []\n",
        "def tokenizer(entry):\n",
        "    tokens = entry.split()\n",
        "    re_punc = re.compile('[%s]' % re.escape(string.punctuation))\n",
        "    tokens = [re_punc.sub('', w) for w in tokens]\n",
        "    tokens = [word for word in tokens if word.isalpha()]\n",
        "    tokens = [lemmatizer.lemmatize(w.lower()) for w in tokens]\n",
        "    tokens = [word.lower() for word in tokens if len(word) > 1]\n",
        "    return tokens"
      ],
      "execution_count": 9,
      "outputs": []
    },
    {
      "cell_type": "code",
      "metadata": {
        "id": "Z4vLbWiRwUaW"
      },
      "source": [
        " def remove_stop_words(tokenizer,df,feature):\n",
        "    doc_without_stopwords = []\n",
        "    for entry in df[feature]:\n",
        "        tokens = tokenizer(entry)\n",
        "        joblib.dump(tokens,'tokens.pkl')\n",
        "        doc_without_stopwords.append(' '.join(tokens))\n",
        "    df[feature] = doc_without_stopwords\n",
        "    return "
      ],
      "execution_count": 10,
      "outputs": []
    },
    {
      "cell_type": "code",
      "metadata": {
        "id": "MnoOaxQUvPj2"
      },
      "source": [
        "def create_vocab(tokenizer,df,feature):\n",
        "    for entry in df[feature]:\n",
        "        tokens = tokenizer(entry)   \n",
        "        vocab.update(tokens)\n",
        "    joblib.dump(vocab,'vocab.pkl')\n",
        "    return "
      ],
      "execution_count": 11,
      "outputs": []
    },
    {
      "cell_type": "code",
      "metadata": {
        "id": "fPiVZREfyt_x"
      },
      "source": [
        "create_vocab(tokenizer,df1,'questions')\n",
        "remove_stop_words(tokenizer,df1,'questions')"
      ],
      "execution_count": 12,
      "outputs": []
    },
    {
      "cell_type": "code",
      "metadata": {
        "colab": {
          "base_uri": "https://localhost:8080/",
          "height": 662
        },
        "id": "p1AKmHNvzBKZ",
        "outputId": "c715ab9a-5136-4c41-dc40-f98593210d8a"
      },
      "source": [
        "df1.head(20)"
      ],
      "execution_count": 13,
      "outputs": [
        {
          "output_type": "execute_result",
          "data": {
            "text/html": [
              "<div>\n",
              "<style scoped>\n",
              "    .dataframe tbody tr th:only-of-type {\n",
              "        vertical-align: middle;\n",
              "    }\n",
              "\n",
              "    .dataframe tbody tr th {\n",
              "        vertical-align: top;\n",
              "    }\n",
              "\n",
              "    .dataframe thead th {\n",
              "        text-align: right;\n",
              "    }\n",
              "</style>\n",
              "<table border=\"1\" class=\"dataframe\">\n",
              "  <thead>\n",
              "    <tr style=\"text-align: right;\">\n",
              "      <th></th>\n",
              "      <th>questions</th>\n",
              "      <th>labels</th>\n",
              "    </tr>\n",
              "  </thead>\n",
              "  <tbody>\n",
              "    <tr>\n",
              "      <th>0</th>\n",
              "      <td>hi there</td>\n",
              "      <td>greeting</td>\n",
              "    </tr>\n",
              "    <tr>\n",
              "      <th>1</th>\n",
              "      <td>how are you</td>\n",
              "      <td>greeting</td>\n",
              "    </tr>\n",
              "    <tr>\n",
              "      <th>2</th>\n",
              "      <td>is anyone there</td>\n",
              "      <td>greeting</td>\n",
              "    </tr>\n",
              "    <tr>\n",
              "      <th>3</th>\n",
              "      <td>hey</td>\n",
              "      <td>greeting</td>\n",
              "    </tr>\n",
              "    <tr>\n",
              "      <th>4</th>\n",
              "      <td>hola</td>\n",
              "      <td>greeting</td>\n",
              "    </tr>\n",
              "    <tr>\n",
              "      <th>5</th>\n",
              "      <td>hello</td>\n",
              "      <td>greeting</td>\n",
              "    </tr>\n",
              "    <tr>\n",
              "      <th>6</th>\n",
              "      <td>good day</td>\n",
              "      <td>greeting</td>\n",
              "    </tr>\n",
              "    <tr>\n",
              "      <th>7</th>\n",
              "      <td>see you later</td>\n",
              "      <td>goodbye</td>\n",
              "    </tr>\n",
              "    <tr>\n",
              "      <th>8</th>\n",
              "      <td>goodbye</td>\n",
              "      <td>goodbye</td>\n",
              "    </tr>\n",
              "    <tr>\n",
              "      <th>9</th>\n",
              "      <td>nice chatting to you bye</td>\n",
              "      <td>goodbye</td>\n",
              "    </tr>\n",
              "    <tr>\n",
              "      <th>10</th>\n",
              "      <td>till next time</td>\n",
              "      <td>goodbye</td>\n",
              "    </tr>\n",
              "    <tr>\n",
              "      <th>11</th>\n",
              "      <td>bye</td>\n",
              "      <td>goodbye</td>\n",
              "    </tr>\n",
              "    <tr>\n",
              "      <th>12</th>\n",
              "      <td>thanks</td>\n",
              "      <td>thanks</td>\n",
              "    </tr>\n",
              "    <tr>\n",
              "      <th>13</th>\n",
              "      <td>thank you</td>\n",
              "      <td>thanks</td>\n",
              "    </tr>\n",
              "    <tr>\n",
              "      <th>14</th>\n",
              "      <td>thats helpful</td>\n",
              "      <td>thanks</td>\n",
              "    </tr>\n",
              "    <tr>\n",
              "      <th>15</th>\n",
              "      <td>awesome thanks</td>\n",
              "      <td>thanks</td>\n",
              "    </tr>\n",
              "    <tr>\n",
              "      <th>16</th>\n",
              "      <td>thanks for helping me</td>\n",
              "      <td>thanks</td>\n",
              "    </tr>\n",
              "    <tr>\n",
              "      <th>17</th>\n",
              "      <td>what you can do</td>\n",
              "      <td>options</td>\n",
              "    </tr>\n",
              "    <tr>\n",
              "      <th>18</th>\n",
              "      <td>how you could help me</td>\n",
              "      <td>options</td>\n",
              "    </tr>\n",
              "    <tr>\n",
              "      <th>19</th>\n",
              "      <td>what help you provide</td>\n",
              "      <td>options</td>\n",
              "    </tr>\n",
              "  </tbody>\n",
              "</table>\n",
              "</div>"
            ],
            "text/plain": [
              "                   questions    labels\n",
              "0                   hi there  greeting\n",
              "1                how are you  greeting\n",
              "2            is anyone there  greeting\n",
              "3                        hey  greeting\n",
              "4                       hola  greeting\n",
              "5                      hello  greeting\n",
              "6                   good day  greeting\n",
              "7              see you later   goodbye\n",
              "8                    goodbye   goodbye\n",
              "9   nice chatting to you bye   goodbye\n",
              "10            till next time   goodbye\n",
              "11                       bye   goodbye\n",
              "12                    thanks    thanks\n",
              "13                 thank you    thanks\n",
              "14             thats helpful    thanks\n",
              "15            awesome thanks    thanks\n",
              "16     thanks for helping me    thanks\n",
              "17           what you can do   options\n",
              "18     how you could help me   options\n",
              "19     what help you provide   options"
            ]
          },
          "metadata": {
            "tags": []
          },
          "execution_count": 13
        }
      ]
    },
    {
      "cell_type": "code",
      "metadata": {
        "colab": {
          "base_uri": "https://localhost:8080/"
        },
        "id": "AWDjM40EzYg1",
        "outputId": "3f42eaec-c9e1-4fa3-ebee-917c6ebc68fe"
      },
      "source": [
        "test_list = list(df1.groupby(by='labels',as_index=False).first()['questions'])\n",
        "test_list"
      ],
      "execution_count": 14,
      "outputs": [
        {
          "output_type": "execute_result",
          "data": {
            "text/plain": [
              "['how to check adverse drug reaction',\n",
              " 'open blood pressure module',\n",
              " 'want to search for blood pressure result history',\n",
              " 'see you later',\n",
              " 'hi there',\n",
              " 'lookup for hospital',\n",
              " '',\n",
              " 'what you can do',\n",
              " 'find me medical store',\n",
              " 'patient id is',\n",
              " 'nearest',\n",
              " 'brain',\n",
              " 'pharmeasy',\n",
              " 'thanks']"
            ]
          },
          "metadata": {
            "tags": []
          },
          "execution_count": 14
        }
      ]
    },
    {
      "cell_type": "code",
      "metadata": {
        "colab": {
          "base_uri": "https://localhost:8080/"
        },
        "id": "wm7WQkFVzmrl",
        "outputId": "2ddf8a46-2aed-42c5-e983-9dedb0443062"
      },
      "source": [
        "test_index = []\n",
        "for i,_ in enumerate(test_list):\n",
        "    idx = df1[df1.questions == test_list[i]].index[0]\n",
        "    test_index.append(idx)\n",
        "test_index"
      ],
      "execution_count": 15,
      "outputs": [
        {
          "output_type": "execute_result",
          "data": {
            "text/plain": [
              "[23, 28, 33, 7, 0, 50, 22, 17, 42, 38, 62, 55, 47, 12]"
            ]
          },
          "metadata": {
            "tags": []
          },
          "execution_count": 15
        }
      ]
    },
    {
      "cell_type": "code",
      "metadata": {
        "id": "xoCQWj70ztrA"
      },
      "source": [
        "train_index = [i for i in df1.index if i not in test_index]"
      ],
      "execution_count": 16,
      "outputs": []
    },
    {
      "cell_type": "code",
      "metadata": {
        "colab": {
          "base_uri": "https://localhost:8080/",
          "height": 105
        },
        "id": "HhbGWHm-zvxv",
        "outputId": "0eceea92-da60-414d-f61c-a2616073a9a5"
      },
      "source": [
        "' '.join(list(vocab.keys()))"
      ],
      "execution_count": 17,
      "outputs": [
        {
          "output_type": "execute_result",
          "data": {
            "application/vnd.google.colaboratory.intrinsic+json": {
              "type": "string"
            },
            "text/plain": [
              "'hi there how are you is anyone hey hola hello good day see later goodbye nice chatting to bye till next time thanks thank thats helpful awesome for helping me what can do could help provide be support offered check adverse drug reaction open module give list of causing behavior all suitable patient with which dont have blood pressure task related data entry want log result management search history load show find by id medical store pharm nearby locate pharmacy pharmeasy pharacy lookup hospital searching transfer looking up detail brain ent cardiology dentist bone liver nearest fortis jaypee'"
            ]
          },
          "metadata": {
            "tags": []
          },
          "execution_count": 17
        }
      ]
    },
    {
      "cell_type": "code",
      "metadata": {
        "id": "XwJ3dhn6vW1E"
      },
      "source": [
        "def encoder(df,feature):\n",
        "    t = Tokenizer()\n",
        "    entries = [entry for entry in df[feature]]\n",
        "    t.fit_on_texts(entries)\n",
        "    joblib.dump(t,'tokenizer_t.pkl')\n",
        "    vocab_size = len(t.word_index) + 1\n",
        "    entries = [entry for entry in df[feature]]\n",
        "    max_length = max([len(s.split()) for s in entries])\n",
        "    encoded = t.texts_to_sequences(entries)\n",
        "    padded = pad_sequences(encoded, maxlen=max_length, padding='post')\n",
        "    return padded, vocab_size"
      ],
      "execution_count": 18,
      "outputs": []
    },
    {
      "cell_type": "code",
      "metadata": {
        "id": "aHu_xKsCz_MM"
      },
      "source": [
        "X,vocab_size = encoder(df1,'questions')"
      ],
      "execution_count": 19,
      "outputs": []
    },
    {
      "cell_type": "code",
      "metadata": {
        "id": "XjuiVpA20A03"
      },
      "source": [
        "df_encoded = pd.DataFrame(X)"
      ],
      "execution_count": 20,
      "outputs": []
    },
    {
      "cell_type": "code",
      "metadata": {
        "colab": {
          "base_uri": "https://localhost:8080/",
          "height": 202
        },
        "id": "Cy_0FlLE0Ln9",
        "outputId": "b16f9552-abe7-4d83-ff51-e26d5e905363"
      },
      "source": [
        "df_encoded['labels'] = df1.labels\n",
        "df_encoded.head()"
      ],
      "execution_count": 21,
      "outputs": [
        {
          "output_type": "execute_result",
          "data": {
            "text/html": [
              "<div>\n",
              "<style scoped>\n",
              "    .dataframe tbody tr th:only-of-type {\n",
              "        vertical-align: middle;\n",
              "    }\n",
              "\n",
              "    .dataframe tbody tr th {\n",
              "        vertical-align: top;\n",
              "    }\n",
              "\n",
              "    .dataframe thead th {\n",
              "        text-align: right;\n",
              "    }\n",
              "</style>\n",
              "<table border=\"1\" class=\"dataframe\">\n",
              "  <thead>\n",
              "    <tr style=\"text-align: right;\">\n",
              "      <th></th>\n",
              "      <th>0</th>\n",
              "      <th>1</th>\n",
              "      <th>2</th>\n",
              "      <th>3</th>\n",
              "      <th>4</th>\n",
              "      <th>5</th>\n",
              "      <th>6</th>\n",
              "      <th>7</th>\n",
              "      <th>8</th>\n",
              "      <th>labels</th>\n",
              "    </tr>\n",
              "  </thead>\n",
              "  <tbody>\n",
              "    <tr>\n",
              "      <th>0</th>\n",
              "      <td>38</td>\n",
              "      <td>24</td>\n",
              "      <td>0</td>\n",
              "      <td>0</td>\n",
              "      <td>0</td>\n",
              "      <td>0</td>\n",
              "      <td>0</td>\n",
              "      <td>0</td>\n",
              "      <td>0</td>\n",
              "      <td>greeting</td>\n",
              "    </tr>\n",
              "    <tr>\n",
              "      <th>1</th>\n",
              "      <td>11</td>\n",
              "      <td>39</td>\n",
              "      <td>3</td>\n",
              "      <td>0</td>\n",
              "      <td>0</td>\n",
              "      <td>0</td>\n",
              "      <td>0</td>\n",
              "      <td>0</td>\n",
              "      <td>0</td>\n",
              "      <td>greeting</td>\n",
              "    </tr>\n",
              "    <tr>\n",
              "      <th>2</th>\n",
              "      <td>13</td>\n",
              "      <td>40</td>\n",
              "      <td>24</td>\n",
              "      <td>0</td>\n",
              "      <td>0</td>\n",
              "      <td>0</td>\n",
              "      <td>0</td>\n",
              "      <td>0</td>\n",
              "      <td>0</td>\n",
              "      <td>greeting</td>\n",
              "    </tr>\n",
              "    <tr>\n",
              "      <th>3</th>\n",
              "      <td>41</td>\n",
              "      <td>0</td>\n",
              "      <td>0</td>\n",
              "      <td>0</td>\n",
              "      <td>0</td>\n",
              "      <td>0</td>\n",
              "      <td>0</td>\n",
              "      <td>0</td>\n",
              "      <td>0</td>\n",
              "      <td>greeting</td>\n",
              "    </tr>\n",
              "    <tr>\n",
              "      <th>4</th>\n",
              "      <td>42</td>\n",
              "      <td>0</td>\n",
              "      <td>0</td>\n",
              "      <td>0</td>\n",
              "      <td>0</td>\n",
              "      <td>0</td>\n",
              "      <td>0</td>\n",
              "      <td>0</td>\n",
              "      <td>0</td>\n",
              "      <td>greeting</td>\n",
              "    </tr>\n",
              "  </tbody>\n",
              "</table>\n",
              "</div>"
            ],
            "text/plain": [
              "    0   1   2  3  4  5  6  7  8    labels\n",
              "0  38  24   0  0  0  0  0  0  0  greeting\n",
              "1  11  39   3  0  0  0  0  0  0  greeting\n",
              "2  13  40  24  0  0  0  0  0  0  greeting\n",
              "3  41   0   0  0  0  0  0  0  0  greeting\n",
              "4  42   0   0  0  0  0  0  0  0  greeting"
            ]
          },
          "metadata": {
            "tags": []
          },
          "execution_count": 21
        }
      ]
    },
    {
      "cell_type": "code",
      "metadata": {
        "id": "7MX23UG-0gKf"
      },
      "source": [
        "for i in range(0,1):\n",
        "    dt = [0]*9\n",
        "    dt.append('confused')\n",
        "    dt = [dt]\n",
        "    pd.DataFrame(dt).rename(columns = {9:'labels'})\n",
        "    df_encoded = df_encoded.append(pd.DataFrame(dt).rename(columns = {9:'labels'}),ignore_index=True)"
      ],
      "execution_count": 22,
      "outputs": []
    },
    {
      "cell_type": "code",
      "metadata": {
        "colab": {
          "base_uri": "https://localhost:8080/",
          "height": 202
        },
        "id": "IxXev0o10l6R",
        "outputId": "7ebbea9f-859a-4544-e097-7373edc21a80"
      },
      "source": [
        "df_encoded.tail()"
      ],
      "execution_count": 23,
      "outputs": [
        {
          "output_type": "execute_result",
          "data": {
            "text/html": [
              "<div>\n",
              "<style scoped>\n",
              "    .dataframe tbody tr th:only-of-type {\n",
              "        vertical-align: middle;\n",
              "    }\n",
              "\n",
              "    .dataframe tbody tr th {\n",
              "        vertical-align: top;\n",
              "    }\n",
              "\n",
              "    .dataframe thead th {\n",
              "        text-align: right;\n",
              "    }\n",
              "</style>\n",
              "<table border=\"1\" class=\"dataframe\">\n",
              "  <thead>\n",
              "    <tr style=\"text-align: right;\">\n",
              "      <th></th>\n",
              "      <th>0</th>\n",
              "      <th>1</th>\n",
              "      <th>2</th>\n",
              "      <th>3</th>\n",
              "      <th>4</th>\n",
              "      <th>5</th>\n",
              "      <th>6</th>\n",
              "      <th>7</th>\n",
              "      <th>8</th>\n",
              "      <th>labels</th>\n",
              "    </tr>\n",
              "  </thead>\n",
              "  <tbody>\n",
              "    <tr>\n",
              "      <th>64</th>\n",
              "      <td>23</td>\n",
              "      <td>0</td>\n",
              "      <td>0</td>\n",
              "      <td>0</td>\n",
              "      <td>0</td>\n",
              "      <td>0</td>\n",
              "      <td>0</td>\n",
              "      <td>0</td>\n",
              "      <td>0</td>\n",
              "      <td>search_hospital_by_params</td>\n",
              "    </tr>\n",
              "    <tr>\n",
              "      <th>65</th>\n",
              "      <td>37</td>\n",
              "      <td>0</td>\n",
              "      <td>0</td>\n",
              "      <td>0</td>\n",
              "      <td>0</td>\n",
              "      <td>0</td>\n",
              "      <td>0</td>\n",
              "      <td>0</td>\n",
              "      <td>0</td>\n",
              "      <td>search_hospital_by_params</td>\n",
              "    </tr>\n",
              "    <tr>\n",
              "      <th>66</th>\n",
              "      <td>37</td>\n",
              "      <td>0</td>\n",
              "      <td>0</td>\n",
              "      <td>0</td>\n",
              "      <td>0</td>\n",
              "      <td>0</td>\n",
              "      <td>0</td>\n",
              "      <td>0</td>\n",
              "      <td>0</td>\n",
              "      <td>search_hospital_by_params</td>\n",
              "    </tr>\n",
              "    <tr>\n",
              "      <th>67</th>\n",
              "      <td>98</td>\n",
              "      <td>0</td>\n",
              "      <td>0</td>\n",
              "      <td>0</td>\n",
              "      <td>0</td>\n",
              "      <td>0</td>\n",
              "      <td>0</td>\n",
              "      <td>0</td>\n",
              "      <td>0</td>\n",
              "      <td>search_hospital_by_params</td>\n",
              "    </tr>\n",
              "    <tr>\n",
              "      <th>68</th>\n",
              "      <td>0</td>\n",
              "      <td>0</td>\n",
              "      <td>0</td>\n",
              "      <td>0</td>\n",
              "      <td>0</td>\n",
              "      <td>0</td>\n",
              "      <td>0</td>\n",
              "      <td>0</td>\n",
              "      <td>0</td>\n",
              "      <td>confused</td>\n",
              "    </tr>\n",
              "  </tbody>\n",
              "</table>\n",
              "</div>"
            ],
            "text/plain": [
              "     0  1  2  3  4  5  6  7  8                     labels\n",
              "64  23  0  0  0  0  0  0  0  0  search_hospital_by_params\n",
              "65  37  0  0  0  0  0  0  0  0  search_hospital_by_params\n",
              "66  37  0  0  0  0  0  0  0  0  search_hospital_by_params\n",
              "67  98  0  0  0  0  0  0  0  0  search_hospital_by_params\n",
              "68   0  0  0  0  0  0  0  0  0                   confused"
            ]
          },
          "metadata": {
            "tags": []
          },
          "execution_count": 23
        }
      ]
    },
    {
      "cell_type": "code",
      "metadata": {
        "id": "XzH4_o6m3cSz"
      },
      "source": [
        "train_index.append(68)"
      ],
      "execution_count": 24,
      "outputs": []
    },
    {
      "cell_type": "code",
      "metadata": {
        "id": "flEXXjcv3pwg"
      },
      "source": [
        ""
      ],
      "execution_count": 24,
      "outputs": []
    },
    {
      "cell_type": "code",
      "metadata": {
        "id": "afIDa43930Lj"
      },
      "source": [
        "from sklearn.preprocessing import LabelEncoder\n",
        "lable_enc = LabelEncoder()"
      ],
      "execution_count": 25,
      "outputs": []
    },
    {
      "cell_type": "code",
      "metadata": {
        "colab": {
          "base_uri": "https://localhost:8080/"
        },
        "id": "UPO0vv2G4n0q",
        "outputId": "dc30a5f6-77d9-45d4-faf0-04323ca39833"
      },
      "source": [
        "labl = lable_enc.fit_transform(df_encoded.labels)\n",
        "labl"
      ],
      "execution_count": 26,
      "outputs": [
        {
          "output_type": "execute_result",
          "data": {
            "text/plain": [
              "array([ 5,  5,  5,  5,  5,  5,  5,  4,  4,  4,  4,  4, 14, 14, 14, 14, 14,\n",
              "        8,  8,  8,  8,  8,  7,  0,  0,  0,  0,  0,  1,  1,  1,  1,  1,  2,\n",
              "        2,  2,  2,  2, 10, 10, 10, 10,  9,  9,  9,  9,  9, 13, 13, 13,  6,\n",
              "        6,  6,  6,  6, 12, 12, 12, 12, 12, 12, 12, 11, 11, 11, 11, 11, 11,\n",
              "        3])"
            ]
          },
          "metadata": {
            "tags": []
          },
          "execution_count": 26
        }
      ]
    },
    {
      "cell_type": "code",
      "metadata": {
        "colab": {
          "base_uri": "https://localhost:8080/"
        },
        "id": "jxjUWM_c4hMs",
        "outputId": "010a467d-37f3-4d9d-be3c-f3d16840142f"
      },
      "source": [
        "mapper = {}\n",
        "for index,key in enumerate(df_encoded.labels):\n",
        "    if key not in mapper.keys():\n",
        "        mapper[key] = labl[index]\n",
        "mapper"
      ],
      "execution_count": 27,
      "outputs": [
        {
          "output_type": "execute_result",
          "data": {
            "text/plain": [
              "{'adverse_drug': 0,\n",
              " 'blood_pressure': 1,\n",
              " 'blood_pressure_search': 2,\n",
              " 'confused': 3,\n",
              " 'goodbye': 4,\n",
              " 'greeting': 5,\n",
              " 'hospital_search': 6,\n",
              " 'noanswer': 7,\n",
              " 'options': 8,\n",
              " 'pharmacy_search': 9,\n",
              " 'search_blood_pressure_by_patient_id': 10,\n",
              " 'search_hospital_by_params': 11,\n",
              " 'search_hospital_by_type': 12,\n",
              " 'search_pharmacy_by_name': 13,\n",
              " 'thanks': 14}"
            ]
          },
          "metadata": {
            "tags": []
          },
          "execution_count": 27
        }
      ]
    },
    {
      "cell_type": "code",
      "metadata": {
        "colab": {
          "base_uri": "https://localhost:8080/",
          "height": 662
        },
        "id": "DlzbGf8T46Mg",
        "outputId": "c0f750a1-b938-4dc2-8c45-f7da6124a92c"
      },
      "source": [
        "df2.head(20)"
      ],
      "execution_count": 28,
      "outputs": [
        {
          "output_type": "execute_result",
          "data": {
            "text/html": [
              "<div>\n",
              "<style scoped>\n",
              "    .dataframe tbody tr th:only-of-type {\n",
              "        vertical-align: middle;\n",
              "    }\n",
              "\n",
              "    .dataframe tbody tr th {\n",
              "        vertical-align: top;\n",
              "    }\n",
              "\n",
              "    .dataframe thead th {\n",
              "        text-align: right;\n",
              "    }\n",
              "</style>\n",
              "<table border=\"1\" class=\"dataframe\">\n",
              "  <thead>\n",
              "    <tr style=\"text-align: right;\">\n",
              "      <th></th>\n",
              "      <th>response</th>\n",
              "      <th>labels</th>\n",
              "    </tr>\n",
              "  </thead>\n",
              "  <tbody>\n",
              "    <tr>\n",
              "      <th>0</th>\n",
              "      <td>Hello, thanks for asking</td>\n",
              "      <td>greeting</td>\n",
              "    </tr>\n",
              "    <tr>\n",
              "      <th>1</th>\n",
              "      <td>Good to see you again</td>\n",
              "      <td>greeting</td>\n",
              "    </tr>\n",
              "    <tr>\n",
              "      <th>2</th>\n",
              "      <td>Hi there, how can I help?</td>\n",
              "      <td>greeting</td>\n",
              "    </tr>\n",
              "    <tr>\n",
              "      <th>3</th>\n",
              "      <td>See you!</td>\n",
              "      <td>goodbye</td>\n",
              "    </tr>\n",
              "    <tr>\n",
              "      <th>4</th>\n",
              "      <td>Have a nice day</td>\n",
              "      <td>goodbye</td>\n",
              "    </tr>\n",
              "    <tr>\n",
              "      <th>5</th>\n",
              "      <td>Bye! Come back again soon.</td>\n",
              "      <td>goodbye</td>\n",
              "    </tr>\n",
              "    <tr>\n",
              "      <th>6</th>\n",
              "      <td>Happy to help!</td>\n",
              "      <td>thanks</td>\n",
              "    </tr>\n",
              "    <tr>\n",
              "      <th>7</th>\n",
              "      <td>Any time!</td>\n",
              "      <td>thanks</td>\n",
              "    </tr>\n",
              "    <tr>\n",
              "      <th>8</th>\n",
              "      <td>My pleasure</td>\n",
              "      <td>thanks</td>\n",
              "    </tr>\n",
              "    <tr>\n",
              "      <th>9</th>\n",
              "      <td>I can guide you through Adverse drug reaction ...</td>\n",
              "      <td>options</td>\n",
              "    </tr>\n",
              "    <tr>\n",
              "      <th>10</th>\n",
              "      <td>Offering support for Adverse drug reaction, Bl...</td>\n",
              "      <td>options</td>\n",
              "    </tr>\n",
              "    <tr>\n",
              "      <th>11</th>\n",
              "      <td>Sorry, can't understand you</td>\n",
              "      <td>noanswer</td>\n",
              "    </tr>\n",
              "    <tr>\n",
              "      <th>12</th>\n",
              "      <td>Please give me more info</td>\n",
              "      <td>noanswer</td>\n",
              "    </tr>\n",
              "    <tr>\n",
              "      <th>13</th>\n",
              "      <td>Not sure I understand</td>\n",
              "      <td>noanswer</td>\n",
              "    </tr>\n",
              "    <tr>\n",
              "      <th>14</th>\n",
              "      <td>Navigating to Adverse drug reaction module</td>\n",
              "      <td>adverse_drug</td>\n",
              "    </tr>\n",
              "    <tr>\n",
              "      <th>15</th>\n",
              "      <td>Navigating to Blood Pressure module</td>\n",
              "      <td>blood_pressure</td>\n",
              "    </tr>\n",
              "    <tr>\n",
              "      <th>16</th>\n",
              "      <td>Please provide Patient ID</td>\n",
              "      <td>blood_pressure_search</td>\n",
              "    </tr>\n",
              "    <tr>\n",
              "      <th>17</th>\n",
              "      <td>Patient ID?</td>\n",
              "      <td>blood_pressure_search</td>\n",
              "    </tr>\n",
              "    <tr>\n",
              "      <th>18</th>\n",
              "      <td>Loading Blood pressure result for Patient</td>\n",
              "      <td>search_blood_pressure_by_patient_id</td>\n",
              "    </tr>\n",
              "    <tr>\n",
              "      <th>19</th>\n",
              "      <td>Please provide pharmacy name</td>\n",
              "      <td>pharmacy_search</td>\n",
              "    </tr>\n",
              "  </tbody>\n",
              "</table>\n",
              "</div>"
            ],
            "text/plain": [
              "                                             response                               labels\n",
              "0                            Hello, thanks for asking                             greeting\n",
              "1                               Good to see you again                             greeting\n",
              "2                           Hi there, how can I help?                             greeting\n",
              "3                                            See you!                              goodbye\n",
              "4                                     Have a nice day                              goodbye\n",
              "5                          Bye! Come back again soon.                              goodbye\n",
              "6                                      Happy to help!                               thanks\n",
              "7                                           Any time!                               thanks\n",
              "8                                         My pleasure                               thanks\n",
              "9   I can guide you through Adverse drug reaction ...                              options\n",
              "10  Offering support for Adverse drug reaction, Bl...                              options\n",
              "11                        Sorry, can't understand you                             noanswer\n",
              "12                           Please give me more info                             noanswer\n",
              "13                              Not sure I understand                             noanswer\n",
              "14         Navigating to Adverse drug reaction module                         adverse_drug\n",
              "15                Navigating to Blood Pressure module                       blood_pressure\n",
              "16                          Please provide Patient ID                blood_pressure_search\n",
              "17                                        Patient ID?                blood_pressure_search\n",
              "18          Loading Blood pressure result for Patient  search_blood_pressure_by_patient_id\n",
              "19                       Please provide pharmacy name                      pharmacy_search"
            ]
          },
          "metadata": {
            "tags": []
          },
          "execution_count": 28
        }
      ]
    },
    {
      "cell_type": "code",
      "metadata": {
        "colab": {
          "base_uri": "https://localhost:8080/",
          "height": 202
        },
        "id": "VodhQF1y5D8n",
        "outputId": "ef616f1f-777a-4f26-96e1-58bdd1072c95"
      },
      "source": [
        "df2.labels = df2.labels.map(mapper).astype({'labels': 'int32'})\n",
        "df2.head()"
      ],
      "execution_count": 29,
      "outputs": [
        {
          "output_type": "execute_result",
          "data": {
            "text/html": [
              "<div>\n",
              "<style scoped>\n",
              "    .dataframe tbody tr th:only-of-type {\n",
              "        vertical-align: middle;\n",
              "    }\n",
              "\n",
              "    .dataframe tbody tr th {\n",
              "        vertical-align: top;\n",
              "    }\n",
              "\n",
              "    .dataframe thead th {\n",
              "        text-align: right;\n",
              "    }\n",
              "</style>\n",
              "<table border=\"1\" class=\"dataframe\">\n",
              "  <thead>\n",
              "    <tr style=\"text-align: right;\">\n",
              "      <th></th>\n",
              "      <th>response</th>\n",
              "      <th>labels</th>\n",
              "    </tr>\n",
              "  </thead>\n",
              "  <tbody>\n",
              "    <tr>\n",
              "      <th>0</th>\n",
              "      <td>Hello, thanks for asking</td>\n",
              "      <td>5</td>\n",
              "    </tr>\n",
              "    <tr>\n",
              "      <th>1</th>\n",
              "      <td>Good to see you again</td>\n",
              "      <td>5</td>\n",
              "    </tr>\n",
              "    <tr>\n",
              "      <th>2</th>\n",
              "      <td>Hi there, how can I help?</td>\n",
              "      <td>5</td>\n",
              "    </tr>\n",
              "    <tr>\n",
              "      <th>3</th>\n",
              "      <td>See you!</td>\n",
              "      <td>4</td>\n",
              "    </tr>\n",
              "    <tr>\n",
              "      <th>4</th>\n",
              "      <td>Have a nice day</td>\n",
              "      <td>4</td>\n",
              "    </tr>\n",
              "  </tbody>\n",
              "</table>\n",
              "</div>"
            ],
            "text/plain": [
              "                    response  labels\n",
              "0   Hello, thanks for asking       5\n",
              "1      Good to see you again       5\n",
              "2  Hi there, how can I help?       5\n",
              "3                   See you!       4\n",
              "4            Have a nice day       4"
            ]
          },
          "metadata": {
            "tags": []
          },
          "execution_count": 29
        }
      ]
    },
    {
      "cell_type": "code",
      "metadata": {
        "id": "nJZwJrz7DWGK"
      },
      "source": [
        "df2.to_csv('response.csv',index=False)"
      ],
      "execution_count": 30,
      "outputs": []
    },
    {
      "cell_type": "code",
      "metadata": {
        "id": "WB-Zw0upDaK-"
      },
      "source": [
        "train = df_encoded.loc[train_index]\n",
        "test = df_encoded.loc[test_index]"
      ],
      "execution_count": 31,
      "outputs": []
    },
    {
      "cell_type": "code",
      "metadata": {
        "id": "AG63t4lLveps"
      },
      "source": [
        "train = df_encoded.loc[train_index]\n",
        "test = df_encoded.loc[test_index]\n",
        "X_train = train.drop(columns=['labels'],axis=1)\n",
        "y_train = train.labels\n",
        "X_test = test.drop(columns=['labels'],axis=1)\n",
        "y_test = test.labels"
      ],
      "execution_count": 32,
      "outputs": []
    },
    {
      "cell_type": "code",
      "metadata": {
        "id": "JxRCse83DhwI"
      },
      "source": [
        "y_train =pd.get_dummies(y_train).values\n",
        "y_test =pd.get_dummies(y_test).values"
      ],
      "execution_count": 33,
      "outputs": []
    },
    {
      "cell_type": "code",
      "metadata": {
        "colab": {
          "base_uri": "https://localhost:8080/",
          "height": 478
        },
        "id": "FAFbQKmg9nqJ",
        "outputId": "d6302450-101e-4d8f-ddfb-11a1f371977f"
      },
      "source": [
        "X_test"
      ],
      "execution_count": 34,
      "outputs": [
        {
          "output_type": "execute_result",
          "data": {
            "text/html": [
              "<div>\n",
              "<style scoped>\n",
              "    .dataframe tbody tr th:only-of-type {\n",
              "        vertical-align: middle;\n",
              "    }\n",
              "\n",
              "    .dataframe tbody tr th {\n",
              "        vertical-align: top;\n",
              "    }\n",
              "\n",
              "    .dataframe thead th {\n",
              "        text-align: right;\n",
              "    }\n",
              "</style>\n",
              "<table border=\"1\" class=\"dataframe\">\n",
              "  <thead>\n",
              "    <tr style=\"text-align: right;\">\n",
              "      <th></th>\n",
              "      <th>0</th>\n",
              "      <th>1</th>\n",
              "      <th>2</th>\n",
              "      <th>3</th>\n",
              "      <th>4</th>\n",
              "      <th>5</th>\n",
              "      <th>6</th>\n",
              "      <th>7</th>\n",
              "      <th>8</th>\n",
              "    </tr>\n",
              "  </thead>\n",
              "  <tbody>\n",
              "    <tr>\n",
              "      <th>23</th>\n",
              "      <td>11</td>\n",
              "      <td>5</td>\n",
              "      <td>64</td>\n",
              "      <td>7</td>\n",
              "      <td>8</td>\n",
              "      <td>16</td>\n",
              "      <td>0</td>\n",
              "      <td>0</td>\n",
              "      <td>0</td>\n",
              "    </tr>\n",
              "    <tr>\n",
              "      <th>28</th>\n",
              "      <td>29</td>\n",
              "      <td>1</td>\n",
              "      <td>2</td>\n",
              "      <td>30</td>\n",
              "      <td>0</td>\n",
              "      <td>0</td>\n",
              "      <td>0</td>\n",
              "      <td>0</td>\n",
              "      <td>0</td>\n",
              "    </tr>\n",
              "    <tr>\n",
              "      <th>33</th>\n",
              "      <td>19</td>\n",
              "      <td>5</td>\n",
              "      <td>20</td>\n",
              "      <td>4</td>\n",
              "      <td>1</td>\n",
              "      <td>2</td>\n",
              "      <td>9</td>\n",
              "      <td>78</td>\n",
              "      <td>0</td>\n",
              "    </tr>\n",
              "    <tr>\n",
              "      <th>7</th>\n",
              "      <td>46</td>\n",
              "      <td>3</td>\n",
              "      <td>47</td>\n",
              "      <td>0</td>\n",
              "      <td>0</td>\n",
              "      <td>0</td>\n",
              "      <td>0</td>\n",
              "      <td>0</td>\n",
              "      <td>0</td>\n",
              "    </tr>\n",
              "    <tr>\n",
              "      <th>0</th>\n",
              "      <td>38</td>\n",
              "      <td>24</td>\n",
              "      <td>0</td>\n",
              "      <td>0</td>\n",
              "      <td>0</td>\n",
              "      <td>0</td>\n",
              "      <td>0</td>\n",
              "      <td>0</td>\n",
              "      <td>0</td>\n",
              "    </tr>\n",
              "    <tr>\n",
              "      <th>50</th>\n",
              "      <td>36</td>\n",
              "      <td>4</td>\n",
              "      <td>10</td>\n",
              "      <td>0</td>\n",
              "      <td>0</td>\n",
              "      <td>0</td>\n",
              "      <td>0</td>\n",
              "      <td>0</td>\n",
              "      <td>0</td>\n",
              "    </tr>\n",
              "    <tr>\n",
              "      <th>22</th>\n",
              "      <td>0</td>\n",
              "      <td>0</td>\n",
              "      <td>0</td>\n",
              "      <td>0</td>\n",
              "      <td>0</td>\n",
              "      <td>0</td>\n",
              "      <td>0</td>\n",
              "      <td>0</td>\n",
              "      <td>0</td>\n",
              "    </tr>\n",
              "    <tr>\n",
              "      <th>17</th>\n",
              "      <td>15</td>\n",
              "      <td>3</td>\n",
              "      <td>27</td>\n",
              "      <td>58</td>\n",
              "      <td>0</td>\n",
              "      <td>0</td>\n",
              "      <td>0</td>\n",
              "      <td>0</td>\n",
              "      <td>0</td>\n",
              "    </tr>\n",
              "    <tr>\n",
              "      <th>42</th>\n",
              "      <td>21</td>\n",
              "      <td>12</td>\n",
              "      <td>34</td>\n",
              "      <td>35</td>\n",
              "      <td>0</td>\n",
              "      <td>0</td>\n",
              "      <td>0</td>\n",
              "      <td>0</td>\n",
              "      <td>0</td>\n",
              "    </tr>\n",
              "    <tr>\n",
              "      <th>38</th>\n",
              "      <td>6</td>\n",
              "      <td>33</td>\n",
              "      <td>13</td>\n",
              "      <td>0</td>\n",
              "      <td>0</td>\n",
              "      <td>0</td>\n",
              "      <td>0</td>\n",
              "      <td>0</td>\n",
              "      <td>0</td>\n",
              "    </tr>\n",
              "    <tr>\n",
              "      <th>62</th>\n",
              "      <td>23</td>\n",
              "      <td>0</td>\n",
              "      <td>0</td>\n",
              "      <td>0</td>\n",
              "      <td>0</td>\n",
              "      <td>0</td>\n",
              "      <td>0</td>\n",
              "      <td>0</td>\n",
              "      <td>0</td>\n",
              "    </tr>\n",
              "    <tr>\n",
              "      <th>55</th>\n",
              "      <td>92</td>\n",
              "      <td>0</td>\n",
              "      <td>0</td>\n",
              "      <td>0</td>\n",
              "      <td>0</td>\n",
              "      <td>0</td>\n",
              "      <td>0</td>\n",
              "      <td>0</td>\n",
              "      <td>0</td>\n",
              "    </tr>\n",
              "    <tr>\n",
              "      <th>47</th>\n",
              "      <td>85</td>\n",
              "      <td>0</td>\n",
              "      <td>0</td>\n",
              "      <td>0</td>\n",
              "      <td>0</td>\n",
              "      <td>0</td>\n",
              "      <td>0</td>\n",
              "      <td>0</td>\n",
              "      <td>0</td>\n",
              "    </tr>\n",
              "    <tr>\n",
              "      <th>12</th>\n",
              "      <td>14</td>\n",
              "      <td>0</td>\n",
              "      <td>0</td>\n",
              "      <td>0</td>\n",
              "      <td>0</td>\n",
              "      <td>0</td>\n",
              "      <td>0</td>\n",
              "      <td>0</td>\n",
              "      <td>0</td>\n",
              "    </tr>\n",
              "  </tbody>\n",
              "</table>\n",
              "</div>"
            ],
            "text/plain": [
              "     0   1   2   3  4   5  6   7  8\n",
              "23  11   5  64   7  8  16  0   0  0\n",
              "28  29   1   2  30  0   0  0   0  0\n",
              "33  19   5  20   4  1   2  9  78  0\n",
              "7   46   3  47   0  0   0  0   0  0\n",
              "0   38  24   0   0  0   0  0   0  0\n",
              "50  36   4  10   0  0   0  0   0  0\n",
              "22   0   0   0   0  0   0  0   0  0\n",
              "17  15   3  27  58  0   0  0   0  0\n",
              "42  21  12  34  35  0   0  0   0  0\n",
              "38   6  33  13   0  0   0  0   0  0\n",
              "62  23   0   0   0  0   0  0   0  0\n",
              "55  92   0   0   0  0   0  0   0  0\n",
              "47  85   0   0   0  0   0  0   0  0\n",
              "12  14   0   0   0  0   0  0   0  0"
            ]
          },
          "metadata": {
            "tags": []
          },
          "execution_count": 34
        }
      ]
    },
    {
      "cell_type": "code",
      "metadata": {
        "colab": {
          "base_uri": "https://localhost:8080/"
        },
        "id": "0fwzZhPu9nqJ",
        "outputId": "54dd86e0-7509-49f5-ddd4-94ef55171e0c"
      },
      "source": [
        "y_test"
      ],
      "execution_count": 35,
      "outputs": [
        {
          "output_type": "execute_result",
          "data": {
            "text/plain": [
              "array([[1, 0, 0, 0, 0, 0, 0, 0, 0, 0, 0, 0, 0, 0],\n",
              "       [0, 1, 0, 0, 0, 0, 0, 0, 0, 0, 0, 0, 0, 0],\n",
              "       [0, 0, 1, 0, 0, 0, 0, 0, 0, 0, 0, 0, 0, 0],\n",
              "       [0, 0, 0, 1, 0, 0, 0, 0, 0, 0, 0, 0, 0, 0],\n",
              "       [0, 0, 0, 0, 1, 0, 0, 0, 0, 0, 0, 0, 0, 0],\n",
              "       [0, 0, 0, 0, 0, 1, 0, 0, 0, 0, 0, 0, 0, 0],\n",
              "       [0, 0, 0, 0, 0, 0, 1, 0, 0, 0, 0, 0, 0, 0],\n",
              "       [0, 0, 0, 0, 0, 0, 0, 1, 0, 0, 0, 0, 0, 0],\n",
              "       [0, 0, 0, 0, 0, 0, 0, 0, 1, 0, 0, 0, 0, 0],\n",
              "       [0, 0, 0, 0, 0, 0, 0, 0, 0, 1, 0, 0, 0, 0],\n",
              "       [0, 0, 0, 0, 0, 0, 0, 0, 0, 0, 1, 0, 0, 0],\n",
              "       [0, 0, 0, 0, 0, 0, 0, 0, 0, 0, 0, 1, 0, 0],\n",
              "       [0, 0, 0, 0, 0, 0, 0, 0, 0, 0, 0, 0, 1, 0],\n",
              "       [0, 0, 0, 0, 0, 0, 0, 0, 0, 0, 0, 0, 0, 1]], dtype=uint8)"
            ]
          },
          "metadata": {
            "tags": []
          },
          "execution_count": 35
        }
      ]
    },
    {
      "cell_type": "code",
      "metadata": {
        "colab": {
          "base_uri": "https://localhost:8080/"
        },
        "id": "7E23BwJUDjv4",
        "outputId": "aaa8c427-e865-48cc-d0a3-601c81b62da9"
      },
      "source": [
        "max_length = X_train.shape[1]\n",
        "output=14\n",
        "max_length"
      ],
      "execution_count": 36,
      "outputs": [
        {
          "output_type": "execute_result",
          "data": {
            "text/plain": [
              "9"
            ]
          },
          "metadata": {
            "tags": []
          },
          "execution_count": 36
        }
      ]
    },
    {
      "cell_type": "code",
      "metadata": {
        "colab": {
          "base_uri": "https://localhost:8080/"
        },
        "id": "6PNB3RzqDxNL",
        "outputId": "14746a6f-aa2e-4422-c4ab-d531c65da8f9"
      },
      "source": [
        "y_train[0].shape,y_test[0].shape"
      ],
      "execution_count": 37,
      "outputs": [
        {
          "output_type": "execute_result",
          "data": {
            "text/plain": [
              "((14,), (14,))"
            ]
          },
          "metadata": {
            "tags": []
          },
          "execution_count": 37
        }
      ]
    },
    {
      "cell_type": "code",
      "metadata": {
        "id": "qzPA2VVzD0QG"
      },
      "source": [
        "early_stopping = EarlyStopping(monitor='val_loss',patience=10)\n",
        "checkpoint = ModelCheckpoint(\"model-v1.h5\",\n",
        "                             monitor=\"val_loss\",\n",
        "                             mode=\"min\",\n",
        "                             save_best_only = True,\n",
        "                             verbose=1)\n",
        "reduce_lr = ReduceLROnPlateau(monitor = 'val_loss', factor = 0.2, patience = 3, verbose = 1, min_delta = 0.0001)\n",
        "callbacks = [early_stopping,checkpoint,reduce_lr]"
      ],
      "execution_count": 38,
      "outputs": []
    },
    {
      "cell_type": "code",
      "metadata": {
        "id": "KiFwKpZmEoBK"
      },
      "source": [
        "def define_model(vocab_size, max_length):\n",
        "    model = Sequential()\n",
        "    model.add(Embedding(vocab_size,300, input_length=max_length))\n",
        "    model.add(Conv1D(filters=53, kernel_size=3, activation='relu'))\n",
        "    model.add(MaxPooling1D(pool_size=6))\n",
        "    model.add(Flatten())\n",
        "    model.add(Dense(32, activation='relu'))\n",
        "    model.add(Dense(14, activation='softmax'))\n",
        "    \n",
        "    \n",
        "    # compile network\n",
        "#     model.compile(loss='categorical_crossentropy', optimizer='adam', metrics=['accuracy'])\n",
        "    model.compile(loss = 'categorical_crossentropy',\n",
        "              # optimizer = Adam(lr=0.001),\n",
        "              optimizer = 'adam',\n",
        "              metrics = ['accuracy'])\n",
        "    \n",
        "    # summarize defined model\n",
        "    model.summary()\n",
        "#     plot_model(model, to_file='model.png', show_shapes=True)\n",
        "    return model"
      ],
      "execution_count": 39,
      "outputs": []
    },
    {
      "cell_type": "code",
      "metadata": {
        "colab": {
          "base_uri": "https://localhost:8080/"
        },
        "id": "IUQkXOgNEU2c",
        "outputId": "cdcaa667-a129-452b-a0f4-9a1dbbbfdf38"
      },
      "source": [
        "model = define_model(vocab_size, max_length)"
      ],
      "execution_count": 40,
      "outputs": [
        {
          "output_type": "stream",
          "text": [
            "Model: \"sequential\"\n",
            "_________________________________________________________________\n",
            "Layer (type)                 Output Shape              Param #   \n",
            "=================================================================\n",
            "embedding (Embedding)        (None, 9, 300)            29700     \n",
            "_________________________________________________________________\n",
            "conv1d (Conv1D)              (None, 7, 53)             47753     \n",
            "_________________________________________________________________\n",
            "max_pooling1d (MaxPooling1D) (None, 1, 53)             0         \n",
            "_________________________________________________________________\n",
            "flatten (Flatten)            (None, 53)                0         \n",
            "_________________________________________________________________\n",
            "dense (Dense)                (None, 32)                1728      \n",
            "_________________________________________________________________\n",
            "dense_1 (Dense)              (None, 14)                462       \n",
            "=================================================================\n",
            "Total params: 79,643\n",
            "Trainable params: 79,643\n",
            "Non-trainable params: 0\n",
            "_________________________________________________________________\n"
          ],
          "name": "stdout"
        }
      ]
    },
    {
      "cell_type": "code",
      "metadata": {
        "colab": {
          "base_uri": "https://localhost:8080/"
        },
        "id": "IdPZyGKYFdI-",
        "outputId": "173d10c8-5c7a-4765-e9e9-e272a0e7688f"
      },
      "source": [
        "history = model.fit(X_train, y_train, epochs=400, verbose=1,validation_data=(X_test,y_test),callbacks=callbacks)"
      ],
      "execution_count": 41,
      "outputs": [
        {
          "output_type": "stream",
          "text": [
            "Epoch 1/400\n",
            "2/2 [==============================] - 1s 681ms/step - loss: 2.6383 - accuracy: 0.0468 - val_loss: 2.6297 - val_accuracy: 0.0714\n",
            "\n",
            "Epoch 00001: val_loss improved from inf to 2.62968, saving model to model-v1.h5\n",
            "Epoch 2/400\n",
            "2/2 [==============================] - 0s 43ms/step - loss: 2.5952 - accuracy: 0.3119 - val_loss: 2.6137 - val_accuracy: 0.2143\n",
            "\n",
            "Epoch 00002: val_loss improved from 2.62968 to 2.61365, saving model to model-v1.h5\n",
            "Epoch 3/400\n",
            "2/2 [==============================] - 0s 47ms/step - loss: 2.5620 - accuracy: 0.4280 - val_loss: 2.5978 - val_accuracy: 0.0714\n",
            "\n",
            "Epoch 00003: val_loss improved from 2.61365 to 2.59783, saving model to model-v1.h5\n",
            "Epoch 4/400\n",
            "2/2 [==============================] - 0s 45ms/step - loss: 2.5247 - accuracy: 0.5044 - val_loss: 2.5830 - val_accuracy: 0.0714\n",
            "\n",
            "Epoch 00004: val_loss improved from 2.59783 to 2.58298, saving model to model-v1.h5\n",
            "Epoch 5/400\n",
            "2/2 [==============================] - 0s 44ms/step - loss: 2.4939 - accuracy: 0.5165 - val_loss: 2.5671 - val_accuracy: 0.1429\n",
            "\n",
            "Epoch 00005: val_loss improved from 2.58298 to 2.56706, saving model to model-v1.h5\n",
            "Epoch 6/400\n",
            "2/2 [==============================] - 0s 43ms/step - loss: 2.4606 - accuracy: 0.4263 - val_loss: 2.5494 - val_accuracy: 0.2143\n",
            "\n",
            "Epoch 00006: val_loss improved from 2.56706 to 2.54943, saving model to model-v1.h5\n",
            "Epoch 7/400\n",
            "2/2 [==============================] - 0s 45ms/step - loss: 2.4072 - accuracy: 0.4835 - val_loss: 2.5292 - val_accuracy: 0.2143\n",
            "\n",
            "Epoch 00007: val_loss improved from 2.54943 to 2.52918, saving model to model-v1.h5\n",
            "Epoch 8/400\n",
            "2/2 [==============================] - 0s 49ms/step - loss: 2.3771 - accuracy: 0.4610 - val_loss: 2.5076 - val_accuracy: 0.2143\n",
            "\n",
            "Epoch 00008: val_loss improved from 2.52918 to 2.50765, saving model to model-v1.h5\n",
            "Epoch 9/400\n",
            "2/2 [==============================] - 0s 51ms/step - loss: 2.3087 - accuracy: 0.4714 - val_loss: 2.4849 - val_accuracy: 0.2143\n",
            "\n",
            "Epoch 00009: val_loss improved from 2.50765 to 2.48489, saving model to model-v1.h5\n",
            "Epoch 10/400\n",
            "2/2 [==============================] - 0s 47ms/step - loss: 2.2750 - accuracy: 0.4714 - val_loss: 2.4617 - val_accuracy: 0.3571\n",
            "\n",
            "Epoch 00010: val_loss improved from 2.48489 to 2.46168, saving model to model-v1.h5\n",
            "Epoch 11/400\n",
            "2/2 [==============================] - 0s 46ms/step - loss: 2.2460 - accuracy: 0.4610 - val_loss: 2.4395 - val_accuracy: 0.3571\n",
            "\n",
            "Epoch 00011: val_loss improved from 2.46168 to 2.43947, saving model to model-v1.h5\n",
            "Epoch 12/400\n",
            "2/2 [==============================] - 0s 46ms/step - loss: 2.1405 - accuracy: 0.5390 - val_loss: 2.4161 - val_accuracy: 0.3571\n",
            "\n",
            "Epoch 00012: val_loss improved from 2.43947 to 2.41614, saving model to model-v1.h5\n",
            "Epoch 13/400\n",
            "2/2 [==============================] - 0s 48ms/step - loss: 2.0934 - accuracy: 0.5737 - val_loss: 2.3925 - val_accuracy: 0.3571\n",
            "\n",
            "Epoch 00013: val_loss improved from 2.41614 to 2.39250, saving model to model-v1.h5\n",
            "Epoch 14/400\n",
            "2/2 [==============================] - 0s 43ms/step - loss: 2.0535 - accuracy: 0.5633 - val_loss: 2.3693 - val_accuracy: 0.3571\n",
            "\n",
            "Epoch 00014: val_loss improved from 2.39250 to 2.36927, saving model to model-v1.h5\n",
            "Epoch 15/400\n",
            "2/2 [==============================] - 0s 44ms/step - loss: 1.9697 - accuracy: 0.5875 - val_loss: 2.3463 - val_accuracy: 0.3571\n",
            "\n",
            "Epoch 00015: val_loss improved from 2.36927 to 2.34631, saving model to model-v1.h5\n",
            "Epoch 16/400\n",
            "2/2 [==============================] - 0s 53ms/step - loss: 1.8832 - accuracy: 0.6413 - val_loss: 2.3247 - val_accuracy: 0.2857\n",
            "\n",
            "Epoch 00016: val_loss improved from 2.34631 to 2.32474, saving model to model-v1.h5\n",
            "Epoch 17/400\n",
            "2/2 [==============================] - 0s 44ms/step - loss: 1.8518 - accuracy: 0.6117 - val_loss: 2.3042 - val_accuracy: 0.2857\n",
            "\n",
            "Epoch 00017: val_loss improved from 2.32474 to 2.30423, saving model to model-v1.h5\n",
            "Epoch 18/400\n",
            "2/2 [==============================] - 0s 45ms/step - loss: 1.7766 - accuracy: 0.6117 - val_loss: 2.2851 - val_accuracy: 0.2857\n",
            "\n",
            "Epoch 00018: val_loss improved from 2.30423 to 2.28513, saving model to model-v1.h5\n",
            "Epoch 19/400\n",
            "2/2 [==============================] - 0s 44ms/step - loss: 1.6485 - accuracy: 0.6881 - val_loss: 2.2663 - val_accuracy: 0.2857\n",
            "\n",
            "Epoch 00019: val_loss improved from 2.28513 to 2.26626, saving model to model-v1.h5\n",
            "Epoch 20/400\n",
            "2/2 [==============================] - 0s 46ms/step - loss: 1.6520 - accuracy: 0.6932 - val_loss: 2.2480 - val_accuracy: 0.3571\n",
            "\n",
            "Epoch 00020: val_loss improved from 2.26626 to 2.24802, saving model to model-v1.h5\n",
            "Epoch 21/400\n",
            "2/2 [==============================] - 0s 48ms/step - loss: 1.5515 - accuracy: 0.7487 - val_loss: 2.2315 - val_accuracy: 0.3571\n",
            "\n",
            "Epoch 00021: val_loss improved from 2.24802 to 2.23146, saving model to model-v1.h5\n",
            "Epoch 22/400\n",
            "2/2 [==============================] - 0s 49ms/step - loss: 1.4666 - accuracy: 0.8163 - val_loss: 2.2159 - val_accuracy: 0.3571\n",
            "\n",
            "Epoch 00022: val_loss improved from 2.23146 to 2.21585, saving model to model-v1.h5\n",
            "Epoch 23/400\n",
            "2/2 [==============================] - 0s 46ms/step - loss: 1.3678 - accuracy: 0.8735 - val_loss: 2.2023 - val_accuracy: 0.2857\n",
            "\n",
            "Epoch 00023: val_loss improved from 2.21585 to 2.20233, saving model to model-v1.h5\n",
            "Epoch 24/400\n",
            "2/2 [==============================] - 0s 47ms/step - loss: 1.2744 - accuracy: 0.8856 - val_loss: 2.1894 - val_accuracy: 0.2857\n",
            "\n",
            "Epoch 00024: val_loss improved from 2.20233 to 2.18944, saving model to model-v1.h5\n",
            "Epoch 25/400\n",
            "2/2 [==============================] - 0s 47ms/step - loss: 1.1703 - accuracy: 0.8960 - val_loss: 2.1770 - val_accuracy: 0.3571\n",
            "\n",
            "Epoch 00025: val_loss improved from 2.18944 to 2.17704, saving model to model-v1.h5\n",
            "Epoch 26/400\n",
            "2/2 [==============================] - 0s 47ms/step - loss: 1.1179 - accuracy: 0.8856 - val_loss: 2.1675 - val_accuracy: 0.3571\n",
            "\n",
            "Epoch 00026: val_loss improved from 2.17704 to 2.16750, saving model to model-v1.h5\n",
            "Epoch 27/400\n",
            "2/2 [==============================] - 0s 45ms/step - loss: 1.0565 - accuracy: 0.8960 - val_loss: 2.1591 - val_accuracy: 0.3571\n",
            "\n",
            "Epoch 00027: val_loss improved from 2.16750 to 2.15909, saving model to model-v1.h5\n",
            "Epoch 28/400\n",
            "2/2 [==============================] - 0s 43ms/step - loss: 0.9735 - accuracy: 0.9081 - val_loss: 2.1546 - val_accuracy: 0.3571\n",
            "\n",
            "Epoch 00028: val_loss improved from 2.15909 to 2.15457, saving model to model-v1.h5\n",
            "Epoch 29/400\n",
            "2/2 [==============================] - 0s 47ms/step - loss: 0.9203 - accuracy: 0.9081 - val_loss: 2.1538 - val_accuracy: 0.3571\n",
            "\n",
            "Epoch 00029: val_loss improved from 2.15457 to 2.15382, saving model to model-v1.h5\n",
            "Epoch 30/400\n",
            "2/2 [==============================] - 0s 42ms/step - loss: 0.7775 - accuracy: 0.9186 - val_loss: 2.1550 - val_accuracy: 0.3571\n",
            "\n",
            "Epoch 00030: val_loss did not improve from 2.15382\n",
            "Epoch 31/400\n",
            "2/2 [==============================] - 0s 46ms/step - loss: 0.7671 - accuracy: 0.8977 - val_loss: 2.1605 - val_accuracy: 0.3571\n",
            "\n",
            "Epoch 00031: val_loss did not improve from 2.15382\n",
            "Epoch 32/400\n",
            "2/2 [==============================] - 0s 43ms/step - loss: 0.6776 - accuracy: 0.9186 - val_loss: 2.1676 - val_accuracy: 0.3571\n",
            "\n",
            "Epoch 00032: val_loss did not improve from 2.15382\n",
            "\n",
            "Epoch 00032: ReduceLROnPlateau reducing learning rate to 0.00020000000949949026.\n",
            "Epoch 33/400\n",
            "2/2 [==============================] - 0s 48ms/step - loss: 0.6286 - accuracy: 0.9186 - val_loss: 2.1689 - val_accuracy: 0.3571\n",
            "\n",
            "Epoch 00033: val_loss did not improve from 2.15382\n",
            "Epoch 34/400\n",
            "2/2 [==============================] - 0s 43ms/step - loss: 0.6052 - accuracy: 0.9081 - val_loss: 2.1699 - val_accuracy: 0.3571\n",
            "\n",
            "Epoch 00034: val_loss did not improve from 2.15382\n",
            "Epoch 35/400\n",
            "2/2 [==============================] - 0s 44ms/step - loss: 0.5666 - accuracy: 0.9290 - val_loss: 2.1710 - val_accuracy: 0.3571\n",
            "\n",
            "Epoch 00035: val_loss did not improve from 2.15382\n",
            "\n",
            "Epoch 00035: ReduceLROnPlateau reducing learning rate to 4.0000001899898055e-05.\n",
            "Epoch 36/400\n",
            "2/2 [==============================] - 0s 54ms/step - loss: 0.5826 - accuracy: 0.9081 - val_loss: 2.1711 - val_accuracy: 0.3571\n",
            "\n",
            "Epoch 00036: val_loss did not improve from 2.15382\n",
            "Epoch 37/400\n",
            "2/2 [==============================] - 0s 46ms/step - loss: 0.6103 - accuracy: 0.9081 - val_loss: 2.1714 - val_accuracy: 0.3571\n",
            "\n",
            "Epoch 00037: val_loss did not improve from 2.15382\n",
            "Epoch 38/400\n",
            "2/2 [==============================] - 0s 46ms/step - loss: 0.5509 - accuracy: 0.9186 - val_loss: 2.1719 - val_accuracy: 0.3571\n",
            "\n",
            "Epoch 00038: val_loss did not improve from 2.15382\n",
            "\n",
            "Epoch 00038: ReduceLROnPlateau reducing learning rate to 8.000000525498762e-06.\n",
            "Epoch 39/400\n",
            "2/2 [==============================] - 0s 49ms/step - loss: 0.5447 - accuracy: 0.9290 - val_loss: 2.1719 - val_accuracy: 0.3571\n",
            "\n",
            "Epoch 00039: val_loss did not improve from 2.15382\n"
          ],
          "name": "stdout"
        }
      ]
    },
    {
      "cell_type": "code",
      "metadata": {
        "id": "DrmuRoHxOP5m"
      },
      "source": [
        ""
      ],
      "execution_count": 41,
      "outputs": []
    },
    {
      "cell_type": "code",
      "metadata": {
        "id": "ue4sr-P89nqL"
      },
      "source": [
        "def get_text():\n",
        "    input_text  = input();\n",
        "    if(input_text==\"end\"):\n",
        "        return 0\n",
        "    input_text=[input_text];\n",
        "    df_input = pd.DataFrame(input_text,columns=['questions'])\n",
        "    df_input\n",
        "    return df_input"
      ],
      "execution_count": 42,
      "outputs": []
    },
    {
      "cell_type": "code",
      "metadata": {
        "id": "IG3cmsDP9nqL"
      },
      "source": [
        "from tensorflow.keras.models import load_model\n",
        "model = load_model('model-v1.h5')\n",
        "tokenizer_t = joblib.load('tokenizer_t.pkl')\n",
        "vocab = joblib.load('vocab.pkl')"
      ],
      "execution_count": 43,
      "outputs": []
    },
    {
      "cell_type": "code",
      "metadata": {
        "id": "4ht_9arP9nqM"
      },
      "source": [
        "def tokenizer(entry):\n",
        "    tokens = entry.split()\n",
        "    re_punc = re.compile('[%s]' % re.escape(string.punctuation))\n",
        "    tokens = [re_punc.sub('', w) for w in tokens]\n",
        "    tokens = [word for word in tokens if word.isalpha()]\n",
        "    tokens = [lemmatizer.lemmatize(w.lower()) for w in tokens]\n",
        "    tokens = [word.lower() for word in tokens if len(word) > 1]\n",
        "    return tokens"
      ],
      "execution_count": 44,
      "outputs": []
    },
    {
      "cell_type": "code",
      "metadata": {
        "id": "SNBep4kC9nqM"
      },
      "source": [
        "\n",
        "def remove_stop_words_for_input(tokenizer,df,feature):\n",
        "    doc_without_stopwords = []\n",
        "    entry = df[feature][0]\n",
        "    tokens = tokenizer(entry)\n",
        "    doc_without_stopwords.append(' '.join(tokens))\n",
        "    df[feature] = doc_without_stopwords\n",
        "    return df"
      ],
      "execution_count": 45,
      "outputs": []
    },
    {
      "cell_type": "code",
      "metadata": {
        "id": "u4Svbyeb9nqM"
      },
      "source": [
        "def encode_input_text(tokenizer_t,df,feature):\n",
        "    t = tokenizer_t\n",
        "    entry =  [df[feature][0]]\n",
        "    encoded = t.texts_to_sequences(entry)\n",
        "    padded = pad_sequences(encoded, maxlen=9, padding='post')\n",
        "    return padded"
      ],
      "execution_count": 46,
      "outputs": []
    },
    {
      "cell_type": "code",
      "metadata": {
        "id": "AeFk8TTZ9nqM"
      },
      "source": [
        ""
      ],
      "execution_count": 46,
      "outputs": []
    },
    {
      "cell_type": "code",
      "metadata": {
        "id": "9wpw0QV_9nqM"
      },
      "source": [
        "def get_pred(model,encoded_input):\n",
        "    pred = np.argmax(model.predict(encoded_input))\n",
        "    return pred"
      ],
      "execution_count": 47,
      "outputs": []
    },
    {
      "cell_type": "code",
      "metadata": {
        "id": "-APsKIwf9nqN"
      },
      "source": [
        "def bot_precausion(df_input,pred):\n",
        "    words = df_input.questions[0].split()\n",
        "    if len([w for w in words if w in vocab])==0 :\n",
        "        pred = 1\n",
        "    return pred"
      ],
      "execution_count": 48,
      "outputs": []
    },
    {
      "cell_type": "code",
      "metadata": {
        "id": "YUhVaOVa9nqN"
      },
      "source": [
        "def get_response(df2,pred):\n",
        "    upper_bound = df2.groupby('labels').get_group(pred).shape[0]\n",
        "    r = np.random.randint(0,upper_bound)\n",
        "    responses = list(df2.groupby('labels').get_group(pred).response)\n",
        "    return responses[r]"
      ],
      "execution_count": 49,
      "outputs": []
    },
    {
      "cell_type": "code",
      "metadata": {
        "id": "izi7vvEY9nqN"
      },
      "source": [
        "def bot_response(response):\n",
        "    print(\"BOT:\",response)"
      ],
      "execution_count": 50,
      "outputs": []
    },
    {
      "cell_type": "code",
      "metadata": {
        "id": "Q4QIPuHQ9nqN"
      },
      "source": [
        ""
      ],
      "execution_count": 50,
      "outputs": []
    },
    {
      "cell_type": "code",
      "metadata": {
        "colab": {
          "base_uri": "https://localhost:8080/"
        },
        "id": "0nYdsGrf9nqN",
        "outputId": "c5aade11-96a5-4e46-d2df-e6e9e19ab77d"
      },
      "source": [
        "while(1):\n",
        "    print(\"YOU:\")\n",
        "    df_input = get_text()\n",
        " \n",
        "    tokenizer_t = joblib.load('tokenizer_t.pkl')\n",
        "    vocab = joblib.load('vocab.pkl')\n",
        "\n",
        "    df_input = remove_stop_words_for_input(tokenizer,df_input,'questions')\n",
        "    encoded_input = encode_input_text(tokenizer_t,df_input,'questions')\n",
        "\n",
        "    pred = get_pred(model,encoded_input)\n",
        "    pred = bot_precausion(df_input,pred)\n",
        "\n",
        "    response = get_response(df2,pred)\n",
        "    bot_response(response)\n",
        "    \n",
        "print('THANK YOU')"
      ],
      "execution_count": null,
      "outputs": [
        {
          "output_type": "stream",
          "text": [
            "YOU:\n",
            "hello\n",
            "BOT: Hi there, how can I help?\n",
            "YOU:\n",
            "which drugs dont have adverse reaction\n",
            "BOT: Navigating to Adverse drug reaction module\n",
            "YOU:\n",
            "blood pressure data entry\n",
            "BOT: Navigating to Blood Pressure module\n",
            "YOU:\n",
            "show blood pressure results for patient\n",
            "BOT: Patient ID?\n",
            "YOU:\n",
            "1\n",
            "BOT: Navigating to Blood Pressure module\n",
            "YOU:\n",
            "lookup for hospitals\n",
            "BOT: Please provide hospital type or location\n",
            "YOU:\n",
            "brain\n",
            "BOT: Hello, thanks for asking\n",
            "YOU:\n",
            "nearest\n",
            "BOT: Loading Blood pressure result for Patient\n",
            "YOU:\n",
            "bye\n",
            "BOT: Have a nice day\n",
            "YOU:\n"
          ],
          "name": "stdout"
        }
      ]
    },
    {
      "cell_type": "code",
      "metadata": {
        "id": "BcDjjdti9nqO"
      },
      "source": [
        ""
      ],
      "execution_count": null,
      "outputs": []
    }
  ]
}